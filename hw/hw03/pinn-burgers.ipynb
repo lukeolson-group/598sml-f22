{
 "cells": [
  {
   "cell_type": "code",
   "execution_count": null,
   "id": "392f0d3f-a5de-49e8-a6e3-2d74112bd3df",
   "metadata": {},
   "outputs": [],
   "source": [
    "import matplotlib.pyplot as plt\n",
    "import numpy as np\n",
    "import torch\n",
    "from torch import nn\n",
    "from functools import partial"
   ]
  },
  {
   "cell_type": "code",
   "execution_count": null,
   "id": "1bc8687e-ac6a-4888-9a7c-c02650604671",
   "metadata": {},
   "outputs": [],
   "source": [
    "def u0(x):\n",
    "    \"\"\"initial condition\"\"\"\n",
    "    u = -torch.sin(torch.pi * x)\n",
    "    return u\n",
    "\n",
    "class ffnn(nn.Module):\n",
    "    \"\"\"basic FF network for approximating functions\"\"\"\n",
    "    def __init__(self, nn_width=10, num_hidden=2):\n",
    "        super().__init__()\n",
    "        \n",
    "        self.layer_first = nn.Linear(2, nn_width)\n",
    "        \n",
    "        layers = []\n",
    "        for _ in range(num_hidden):\n",
    "            layers.append(nn.Linear(nn_width, nn_width))\n",
    "        self.layer_hidden = nn.ModuleList(layers)\n",
    "        \n",
    "        self.layer_last = nn.Linear(nn_width, 1)\n",
    "        \n",
    "    def forward(self, x, t):\n",
    "        xt = torch.cat([x, t], dim=1)\n",
    "        activation = nn.Tanh()\n",
    "        u = activation(self.layer_first(xt))\n",
    "        for hidden in self.layer_hidden:\n",
    "            u = activation(hidden(u))\n",
    "        u = self.layer_last(u)\n",
    "        return u"
   ]
  },
  {
   "cell_type": "markdown",
   "id": "fc8c9d96-5f0c-4996-9ddd-edd7dd55e138",
   "metadata": {},
   "source": [
    "# Create a model\n",
    "\n",
    "Create a model for\n",
    "$$\n",
    "u_t + u u_x = 0\n",
    "$$\n",
    "with $u(x,0)=-sin(\\pi x)$ and $u(-1,t)=u(1,t)=0$."
   ]
  },
  {
   "cell_type": "code",
   "execution_count": null,
   "id": "51639300-a8de-40c1-b4b1-4965896efd37",
   "metadata": {},
   "outputs": [],
   "source": [
    "# 1. FIXME -- training data\n",
    "\n",
    "# 2. set the model\n",
    "torch.manual_seed(23939)\n",
    "model = ffnn(15, 2)\n",
    "\n",
    "# 3. set the optimizer\n",
    "lr = 0.025\n",
    "opt = torch.optim.Adam(model.parameters(), lr)\n",
    "n_epochs = 10000\n",
    "loss_history = []\n",
    "\n",
    "# 4. FIXME -- set the loss for BC, IC, and the residual\n",
    "def loss_function(model, ???):    \n",
    "    #\n",
    "    return loss_value"
   ]
  },
  {
   "cell_type": "code",
   "execution_count": null,
   "id": "467cf557-fd0f-4f56-994a-5de1d2e5985f",
   "metadata": {},
   "outputs": [],
   "source": [
    "for i in range(n_epochs):\n",
    "\n",
    "    loss = loss_function(model, ???)\n",
    "    opt.zero_grad()\n",
    "    loss_history.append(loss.item())\n",
    "    \n",
    "    loss.backward()\n",
    "    opt.step()\n",
    "\n",
    "    if i % 1000 == 0:\n",
    "        print(f'epoch {i}, loss = {loss}')"
   ]
  },
  {
   "cell_type": "markdown",
   "id": "012ab8f8-91ac-486b-8da5-01e69b6e9829",
   "metadata": {},
   "source": [
    "# Plot the solution"
   ]
  },
  {
   "cell_type": "code",
   "execution_count": null,
   "id": "9edfe055-78c5-4461-9280-b7759404cb26",
   "metadata": {},
   "outputs": [],
   "source": []
  }
 ],
 "metadata": {
  "kernelspec": {
   "display_name": "Python 3 (ipykernel)",
   "language": "python",
   "name": "python3"
  },
  "language_info": {
   "codemirror_mode": {
    "name": "ipython",
    "version": 3
   },
   "file_extension": ".py",
   "mimetype": "text/x-python",
   "name": "python",
   "nbconvert_exporter": "python",
   "pygments_lexer": "ipython3",
   "version": "3.10.6"
  }
 },
 "nbformat": 4,
 "nbformat_minor": 5
}
