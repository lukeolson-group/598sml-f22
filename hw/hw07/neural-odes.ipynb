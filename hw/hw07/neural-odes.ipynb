{
 "cells": [
  {
   "cell_type": "markdown",
   "metadata": {
    "tags": []
   },
   "source": [
    "# Neural ODEs"
   ]
  },
  {
   "cell_type": "code",
   "execution_count": 2,
   "metadata": {},
   "outputs": [],
   "source": [
    "import numpy as np\n",
    "import torch\n",
    "import matplotlib.pyplot as plt\n",
    "import random\n",
    "from torchdiffeq import odeint_adjoint as odeint\n",
    "import IPython\n",
    "%matplotlib inline"
   ]
  },
  {
   "cell_type": "markdown",
   "metadata": {},
   "source": [
    "## Pendulum ODE\n",
    "\n",
    "$$\n",
    "\\begin{align}\n",
    "\\frac{d}{dt} \\begin{bmatrix} \\theta \\\\ \\omega \\end{bmatrix} &= \\begin{bmatrix} \\omega \\\\ - \\sin\\theta \\end{bmatrix} \\\\\n",
    "\\theta(0) &= \\frac{3\\pi}{4} \\\\\n",
    "\\omega(0) &= 0 \\\\\n",
    "t &\\in [0,10]\n",
    "\\end{align}\n",
    "$$"
   ]
  },
  {
   "cell_type": "markdown",
   "metadata": {},
   "source": [
    "## Tasks\n",
    "\n",
    "1. Generate training data by simulating a trajectory of the system\n",
    "2. Train a Neural ODE to fit the simulated trajectory\n",
    "3. Plot the vector field of your Neural ODE\n",
    "4. How well does your Neural ODE genearlize to other initial conditions? Can you improve this?"
   ]
  },
  {
   "cell_type": "markdown",
   "metadata": {},
   "source": [
    "## Hints\n",
    "\n",
    "1. We are using the package https://github.com/rtqichen/torchdiffeq\n",
    "2. See the example: https://github.com/rtqichen/torchdiffeq/blob/master/examples/ode_demo.py"
   ]
  }
 ],
 "metadata": {
  "kernelspec": {
   "display_name": "Python 3 (ipykernel)",
   "language": "python",
   "name": "python3"
  },
  "language_info": {
   "codemirror_mode": {
    "name": "ipython",
    "version": 3
   },
   "file_extension": ".py",
   "mimetype": "text/x-python",
   "name": "python",
   "nbconvert_exporter": "python",
   "pygments_lexer": "ipython3",
   "version": "3.9.12"
  }
 },
 "nbformat": 4,
 "nbformat_minor": 4
}
